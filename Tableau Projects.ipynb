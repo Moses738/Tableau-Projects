{
 "cells": [
  {
   "cell_type": "markdown",
   "metadata": {},
   "source": [
    "I took the <b>Hotel Reservation</b> dataset from kaggle and analyzed through tableau and created dashboard\\\n",
    "Please visit my Dashboard [Click Here](https://public.tableau.com/app/profile/moses.k1824/viz/HotelReservationAnalysis/HotelReservationAnalysis?publish=yes)"
   ]
  },
  {
   "cell_type": "markdown",
   "metadata": {},
   "source": [
    "I worked on <b>Consumer Complaints</b> dataset and created dashboard\\\n",
    "Please visit my dashboard\n",
    "[Click Here](https://public.tableau.com/app/profile/moses.k1824/viz/FinancialConsumerComplaints_16735910981180/FinantialConsumerComplaints?publish=yes)"
   ]
  },
  {
   "cell_type": "code",
   "execution_count": null,
   "metadata": {},
   "outputs": [],
   "source": []
  }
 ],
 "metadata": {
  "kernelspec": {
   "display_name": "Python 3",
   "language": "python",
   "name": "python3"
  },
  "language_info": {
   "codemirror_mode": {
    "name": "ipython",
    "version": 3
   },
   "file_extension": ".py",
   "mimetype": "text/x-python",
   "name": "python",
   "nbconvert_exporter": "python",
   "pygments_lexer": "ipython3",
   "version": "3.8.5"
  }
 },
 "nbformat": 4,
 "nbformat_minor": 4
}
